{
 "cells": [
  {
   "cell_type": "code",
   "execution_count": 1,
   "metadata": {
    "colab": {
     "base_uri": "https://localhost:8080/",
     "height": 339
    },
    "colab_type": "code",
    "id": "yku6GxC9PujF",
    "outputId": "03c85f56-cc2c-44cc-f4e0-2ef493d04e05"
   },
   "outputs": [],
   "source": [
    "# Melhor pelo terminal, caso já não estejam instalados.\n",
    "\n",
    "#!pip install graphviz==0.9\n",
    "#!pip install pydot\n",
    "#!pip install seaborn==0.9.0\n",
    "\n",
    "#!apt-get install graphviz"
   ]
  },
  {
   "cell_type": "code",
   "execution_count": 2,
   "metadata": {
    "colab": {
     "base_uri": "https://localhost:8080/",
     "height": 195
    },
    "colab_type": "code",
    "id": "y7ik04NlDZMA",
    "outputId": "3e60f174-f855-49bd-d378-60b6d840638b"
   },
   "outputs": [
    {
     "data": {
      "text/html": [
       "<div>\n",
       "<style scoped>\n",
       "    .dataframe tbody tr th:only-of-type {\n",
       "        vertical-align: middle;\n",
       "    }\n",
       "\n",
       "    .dataframe tbody tr th {\n",
       "        vertical-align: top;\n",
       "    }\n",
       "\n",
       "    .dataframe thead th {\n",
       "        text-align: right;\n",
       "    }\n",
       "</style>\n",
       "<table border=\"1\" class=\"dataframe\">\n",
       "  <thead>\n",
       "    <tr style=\"text-align: right;\">\n",
       "      <th></th>\n",
       "      <th>preco</th>\n",
       "      <th>vendido</th>\n",
       "      <th>idade_do_modelo</th>\n",
       "      <th>km_por_ano</th>\n",
       "    </tr>\n",
       "  </thead>\n",
       "  <tbody>\n",
       "    <tr>\n",
       "      <th>0</th>\n",
       "      <td>30941.02</td>\n",
       "      <td>1</td>\n",
       "      <td>18</td>\n",
       "      <td>35085.22134</td>\n",
       "    </tr>\n",
       "    <tr>\n",
       "      <th>1</th>\n",
       "      <td>40557.96</td>\n",
       "      <td>1</td>\n",
       "      <td>20</td>\n",
       "      <td>12622.05362</td>\n",
       "    </tr>\n",
       "    <tr>\n",
       "      <th>2</th>\n",
       "      <td>89627.50</td>\n",
       "      <td>0</td>\n",
       "      <td>12</td>\n",
       "      <td>11440.79806</td>\n",
       "    </tr>\n",
       "    <tr>\n",
       "      <th>3</th>\n",
       "      <td>95276.14</td>\n",
       "      <td>0</td>\n",
       "      <td>3</td>\n",
       "      <td>43167.32682</td>\n",
       "    </tr>\n",
       "    <tr>\n",
       "      <th>4</th>\n",
       "      <td>117384.68</td>\n",
       "      <td>1</td>\n",
       "      <td>4</td>\n",
       "      <td>12770.11290</td>\n",
       "    </tr>\n",
       "  </tbody>\n",
       "</table>\n",
       "</div>"
      ],
      "text/plain": [
       "       preco  vendido  idade_do_modelo   km_por_ano\n",
       "0   30941.02        1               18  35085.22134\n",
       "1   40557.96        1               20  12622.05362\n",
       "2   89627.50        0               12  11440.79806\n",
       "3   95276.14        0                3  43167.32682\n",
       "4  117384.68        1                4  12770.11290"
      ]
     },
     "execution_count": 2,
     "metadata": {},
     "output_type": "execute_result"
    }
   ],
   "source": [
    "import pandas as pd\n",
    "import numpy as np\n",
    "\n",
    "uri = \"https://gist.githubusercontent.com/guilhermesilveira/e99a526b2e7ccc6c3b70f53db43a87d2/raw/1605fc74aa778066bf2e6695e24d53cf65f2f447/machine-learning-carros-simulacao.csv\"\n",
    "dados = pd.read_csv(uri).drop(columns=[\"Unnamed: 0\"], axis=1)\n",
    "dados.head()"
   ]
  },
  {
   "cell_type": "code",
   "execution_count": 3,
   "metadata": {
    "colab": {
     "base_uri": "https://localhost:8080/",
     "height": 195
    },
    "colab_type": "code",
    "id": "b52E4e1hjegN",
    "outputId": "46e32461-13ce-4b78-d64f-96e0a89576ba"
   },
   "outputs": [
    {
     "data": {
      "text/html": [
       "<div>\n",
       "<style scoped>\n",
       "    .dataframe tbody tr th:only-of-type {\n",
       "        vertical-align: middle;\n",
       "    }\n",
       "\n",
       "    .dataframe tbody tr th {\n",
       "        vertical-align: top;\n",
       "    }\n",
       "\n",
       "    .dataframe thead th {\n",
       "        text-align: right;\n",
       "    }\n",
       "</style>\n",
       "<table border=\"1\" class=\"dataframe\">\n",
       "  <thead>\n",
       "    <tr style=\"text-align: right;\">\n",
       "      <th></th>\n",
       "      <th>preco</th>\n",
       "      <th>vendido</th>\n",
       "      <th>idade_do_modelo</th>\n",
       "      <th>km_por_ano</th>\n",
       "    </tr>\n",
       "  </thead>\n",
       "  <tbody>\n",
       "    <tr>\n",
       "      <th>4999</th>\n",
       "      <td>74023.29</td>\n",
       "      <td>0</td>\n",
       "      <td>12</td>\n",
       "      <td>24812.80412</td>\n",
       "    </tr>\n",
       "    <tr>\n",
       "      <th>5322</th>\n",
       "      <td>84843.49</td>\n",
       "      <td>0</td>\n",
       "      <td>13</td>\n",
       "      <td>23095.63834</td>\n",
       "    </tr>\n",
       "    <tr>\n",
       "      <th>5319</th>\n",
       "      <td>83100.27</td>\n",
       "      <td>0</td>\n",
       "      <td>19</td>\n",
       "      <td>36240.72746</td>\n",
       "    </tr>\n",
       "    <tr>\n",
       "      <th>5316</th>\n",
       "      <td>87932.13</td>\n",
       "      <td>0</td>\n",
       "      <td>16</td>\n",
       "      <td>32249.56426</td>\n",
       "    </tr>\n",
       "    <tr>\n",
       "      <th>5315</th>\n",
       "      <td>77937.01</td>\n",
       "      <td>0</td>\n",
       "      <td>15</td>\n",
       "      <td>28414.50704</td>\n",
       "    </tr>\n",
       "  </tbody>\n",
       "</table>\n",
       "</div>"
      ],
      "text/plain": [
       "         preco  vendido  idade_do_modelo   km_por_ano\n",
       "4999  74023.29        0               12  24812.80412\n",
       "5322  84843.49        0               13  23095.63834\n",
       "5319  83100.27        0               19  36240.72746\n",
       "5316  87932.13        0               16  32249.56426\n",
       "5315  77937.01        0               15  28414.50704"
      ]
     },
     "execution_count": 3,
     "metadata": {},
     "output_type": "execute_result"
    }
   ],
   "source": [
    "# situação horrível de \"azar\" onde as classes estão ordenadas por padrão\n",
    "\n",
    "dados_azar = dados.sort_values(\"vendido\", ascending=True)\n",
    "x_azar = dados_azar[[\"preco\", \"idade_do_modelo\",\"km_por_ano\"]]\n",
    "y_azar = dados_azar[\"vendido\"]\n",
    "dados_azar.head()"
   ]
  },
  {
   "cell_type": "code",
   "execution_count": 4,
   "metadata": {
    "colab": {
     "base_uri": "https://localhost:8080/",
     "height": 34
    },
    "colab_type": "code",
    "id": "ZNT26vFEeYmz",
    "outputId": "5cd367dd-e297-40cc-c81d-e09bbc7bf41f"
   },
   "outputs": [
    {
     "name": "stdout",
     "output_type": "stream",
     "text": [
      "Accuracy com dummy stratified, 10 = [58.00, 58.00]\n"
     ]
    }
   ],
   "source": [
    "from sklearn.model_selection import cross_validate\n",
    "from sklearn.dummy import DummyClassifier\n",
    "import numpy as np\n",
    "\n",
    "SEED = 301\n",
    "np.random.seed(SEED)\n",
    "\n",
    "modelo = DummyClassifier()\n",
    "results = cross_validate(modelo, x_azar, y_azar, cv = 10, return_train_score=False)\n",
    "media = results['test_score'].mean()\n",
    "desvio_padrao = results['test_score'].std()\n",
    "print(\"Accuracy com dummy stratified, 10 = [%.2f, %.2f]\" % ((media - 2 * desvio_padrao)*100, (media + 2 * desvio_padrao) * 100))"
   ]
  },
  {
   "cell_type": "code",
   "execution_count": 5,
   "metadata": {
    "colab": {
     "base_uri": "https://localhost:8080/",
     "height": 34
    },
    "colab_type": "code",
    "id": "73mCcFA_eG_K",
    "outputId": "6f585741-6e82-4e9e-9d6a-d74ed8224503"
   },
   "outputs": [
    {
     "name": "stdout",
     "output_type": "stream",
     "text": [
      "Accuracy com cross validation, 10 = [73.83, 77.73]\n"
     ]
    }
   ],
   "source": [
    "from sklearn.model_selection import cross_validate\n",
    "from sklearn.tree import DecisionTreeClassifier\n",
    "\n",
    "SEED = 301\n",
    "np.random.seed(SEED)\n",
    "\n",
    "modelo = DecisionTreeClassifier(max_depth=2)\n",
    "results = cross_validate(modelo, x_azar, y_azar, cv = 10, return_train_score=False)\n",
    "media = results['test_score'].mean()\n",
    "desvio_padrao = results['test_score'].std()\n",
    "print(\"Accuracy com cross validation, 10 = [%.2f, %.2f]\" % ((media - 2 * desvio_padrao)*100, (media + 2 * desvio_padrao) * 100))"
   ]
  },
  {
   "cell_type": "code",
   "execution_count": 6,
   "metadata": {
    "colab": {
     "base_uri": "https://localhost:8080/",
     "height": 195
    },
    "colab_type": "code",
    "id": "5C8Y6J-PGpYf",
    "outputId": "dcf93fa7-ff87-4bd9-b4aa-a3dfab869f84"
   },
   "outputs": [
    {
     "data": {
      "text/html": [
       "<div>\n",
       "<style scoped>\n",
       "    .dataframe tbody tr th:only-of-type {\n",
       "        vertical-align: middle;\n",
       "    }\n",
       "\n",
       "    .dataframe tbody tr th {\n",
       "        vertical-align: top;\n",
       "    }\n",
       "\n",
       "    .dataframe thead th {\n",
       "        text-align: right;\n",
       "    }\n",
       "</style>\n",
       "<table border=\"1\" class=\"dataframe\">\n",
       "  <thead>\n",
       "    <tr style=\"text-align: right;\">\n",
       "      <th></th>\n",
       "      <th>preco</th>\n",
       "      <th>vendido</th>\n",
       "      <th>idade_do_modelo</th>\n",
       "      <th>km_por_ano</th>\n",
       "      <th>modelo</th>\n",
       "    </tr>\n",
       "  </thead>\n",
       "  <tbody>\n",
       "    <tr>\n",
       "      <th>0</th>\n",
       "      <td>30941.02</td>\n",
       "      <td>1</td>\n",
       "      <td>18</td>\n",
       "      <td>35085.22134</td>\n",
       "      <td>18</td>\n",
       "    </tr>\n",
       "    <tr>\n",
       "      <th>1</th>\n",
       "      <td>40557.96</td>\n",
       "      <td>1</td>\n",
       "      <td>20</td>\n",
       "      <td>12622.05362</td>\n",
       "      <td>24</td>\n",
       "    </tr>\n",
       "    <tr>\n",
       "      <th>2</th>\n",
       "      <td>89627.50</td>\n",
       "      <td>0</td>\n",
       "      <td>12</td>\n",
       "      <td>11440.79806</td>\n",
       "      <td>14</td>\n",
       "    </tr>\n",
       "    <tr>\n",
       "      <th>3</th>\n",
       "      <td>95276.14</td>\n",
       "      <td>0</td>\n",
       "      <td>3</td>\n",
       "      <td>43167.32682</td>\n",
       "      <td>6</td>\n",
       "    </tr>\n",
       "    <tr>\n",
       "      <th>4</th>\n",
       "      <td>117384.68</td>\n",
       "      <td>1</td>\n",
       "      <td>4</td>\n",
       "      <td>12770.11290</td>\n",
       "      <td>5</td>\n",
       "    </tr>\n",
       "  </tbody>\n",
       "</table>\n",
       "</div>"
      ],
      "text/plain": [
       "       preco  vendido  idade_do_modelo   km_por_ano  modelo\n",
       "0   30941.02        1               18  35085.22134      18\n",
       "1   40557.96        1               20  12622.05362      24\n",
       "2   89627.50        0               12  11440.79806      14\n",
       "3   95276.14        0                3  43167.32682       6\n",
       "4  117384.68        1                4  12770.11290       5"
      ]
     },
     "execution_count": 6,
     "metadata": {},
     "output_type": "execute_result"
    }
   ],
   "source": [
    "# gerando dados elatorios de modelo de carro para simulacao de agrupamento ao usar nosso estimador\n",
    "\n",
    "np.random.seed(SEED)\n",
    "dados['modelo'] = dados.idade_do_modelo + np.random.randint(-2, 3, size=10000)\n",
    "dados.modelo = dados.modelo + abs(dados.modelo.min()) + 1\n",
    "dados.head()"
   ]
  },
  {
   "cell_type": "code",
   "execution_count": 7,
   "metadata": {
    "colab": {},
    "colab_type": "code",
    "id": "3hmjt7qPHOZY"
   },
   "outputs": [],
   "source": [
    "def imprime_resultados(results):\n",
    "  media = results['test_score'].mean() * 100\n",
    "  desvio = results['test_score'].std() * 100\n",
    "  print(\"Accuracy médio %.2f\" % media)\n",
    "  print(\"Intervalo [%.2f, %.2f]\" % (media - 2 * desvio, media + 2 * desvio))"
   ]
  },
  {
   "cell_type": "code",
   "execution_count": 8,
   "metadata": {
    "colab": {
     "base_uri": "https://localhost:8080/",
     "height": 50
    },
    "colab_type": "code",
    "id": "goijy0rSS7n-",
    "outputId": "bf0df175-81db-4ee7-8ae4-591a31eb66db"
   },
   "outputs": [
    {
     "name": "stdout",
     "output_type": "stream",
     "text": [
      "Accuracy médio 76.68\n",
      "Intervalo [74.28, 79.08]\n"
     ]
    }
   ],
   "source": [
    "# GroupKFold em um pipeline com StandardScaler e SVC\n",
    "\n",
    "from sklearn.preprocessing import StandardScaler\n",
    "from sklearn.svm import SVC\n",
    "from sklearn.pipeline import Pipeline\n",
    "from sklearn.model_selection import GroupKFold\n",
    "\n",
    "\n",
    "SEED = 301\n",
    "np.random.seed(SEED)\n",
    "\n",
    "scaler = StandardScaler()\n",
    "modelo = SVC()\n",
    "\n",
    "pipeline = Pipeline([('transformacao',scaler), ('estimador',modelo)])\n",
    "\n",
    "cv = GroupKFold(n_splits = 10)\n",
    "results = cross_validate(pipeline, x_azar, y_azar, cv = cv, groups = dados.modelo, return_train_score=False)\n",
    "imprime_resultados(results)"
   ]
  },
  {
   "cell_type": "code",
   "execution_count": 9,
   "metadata": {
    "colab": {
     "base_uri": "https://localhost:8080/",
     "height": 50
    },
    "colab_type": "code",
    "id": "IKD8uaWkNcUL",
    "outputId": "c5430f13-067a-4d6a-e840-46d4669e931a"
   },
   "outputs": [
    {
     "name": "stdout",
     "output_type": "stream",
     "text": [
      "Accuracy médio 75.78\n",
      "Intervalo [73.67, 77.90]\n"
     ]
    }
   ],
   "source": [
    "# GroupKFold para analisar como o modelo se comporta com novos grupos\n",
    "\n",
    "from sklearn.model_selection import GroupKFold\n",
    "\n",
    "SEED = 301\n",
    "np.random.seed(SEED)\n",
    "\n",
    "cv = GroupKFold(n_splits = 10)\n",
    "modelo = DecisionTreeClassifier(max_depth=2)\n",
    "results = cross_validate(modelo, x_azar, y_azar, cv = cv, groups = dados.modelo, return_train_score=False)\n",
    "imprime_resultados(results)"
   ]
  },
  {
   "cell_type": "code",
   "execution_count": 10,
   "metadata": {
    "colab": {
     "base_uri": "https://localhost:8080/",
     "height": 440
    },
    "colab_type": "code",
    "id": "WhJEIZ4bO3J6",
    "outputId": "9ac2fe01-dbbc-41d8-e4c4-b32ffeb75fd7"
   },
   "outputs": [
    {
     "data": {
      "image/svg+xml": [
       "<?xml version=\"1.0\" encoding=\"UTF-8\" standalone=\"no\"?>\n",
       "<!DOCTYPE svg PUBLIC \"-//W3C//DTD SVG 1.1//EN\"\n",
       " \"http://www.w3.org/Graphics/SVG/1.1/DTD/svg11.dtd\">\n",
       "<!-- Generated by graphviz version 2.43.0 (0)\n",
       " -->\n",
       "<!-- Title: Tree Pages: 1 -->\n",
       "<svg width=\"696pt\" height=\"314pt\"\n",
       " viewBox=\"0.00 0.00 696.00 314.00\" xmlns=\"http://www.w3.org/2000/svg\" xmlns:xlink=\"http://www.w3.org/1999/xlink\">\n",
       "<g id=\"graph0\" class=\"graph\" transform=\"scale(1 1) rotate(0) translate(4 310)\">\n",
       "<title>Tree</title>\n",
       "<polygon fill=\"white\" stroke=\"transparent\" points=\"-4,4 -4,-310 692,-310 692,4 -4,4\"/>\n",
       "<!-- 0 -->\n",
       "<g id=\"node1\" class=\"node\">\n",
       "<title>0</title>\n",
       "<path fill=\"#c8e4f8\" stroke=\"black\" d=\"M403.5,-306C403.5,-306 260.5,-306 260.5,-306 254.5,-306 248.5,-300 248.5,-294 248.5,-294 248.5,-235 248.5,-235 248.5,-229 254.5,-223 260.5,-223 260.5,-223 403.5,-223 403.5,-223 409.5,-223 415.5,-229 415.5,-235 415.5,-235 415.5,-294 415.5,-294 415.5,-300 409.5,-306 403.5,-306\"/>\n",
       "<text text-anchor=\"middle\" x=\"332\" y=\"-290.8\" font-family=\"Helvetica,sans-Serif\" font-size=\"14.00\">preco &lt;= 59982.246</text>\n",
       "<text text-anchor=\"middle\" x=\"332\" y=\"-275.8\" font-family=\"Helvetica,sans-Serif\" font-size=\"14.00\">gini = 0.487</text>\n",
       "<text text-anchor=\"middle\" x=\"332\" y=\"-260.8\" font-family=\"Helvetica,sans-Serif\" font-size=\"14.00\">samples = 10000</text>\n",
       "<text text-anchor=\"middle\" x=\"332\" y=\"-245.8\" font-family=\"Helvetica,sans-Serif\" font-size=\"14.00\">value = [4200, 5800]</text>\n",
       "<text text-anchor=\"middle\" x=\"332\" y=\"-230.8\" font-family=\"Helvetica,sans-Serif\" font-size=\"14.00\">class = sim</text>\n",
       "</g>\n",
       "<!-- 1 -->\n",
       "<g id=\"node2\" class=\"node\">\n",
       "<title>1</title>\n",
       "<path fill=\"#52a9e8\" stroke=\"black\" d=\"M300,-187C300,-187 160,-187 160,-187 154,-187 148,-181 148,-175 148,-175 148,-116 148,-116 148,-110 154,-104 160,-104 160,-104 300,-104 300,-104 306,-104 312,-110 312,-116 312,-116 312,-175 312,-175 312,-181 306,-187 300,-187\"/>\n",
       "<text text-anchor=\"middle\" x=\"230\" y=\"-171.8\" font-family=\"Helvetica,sans-Serif\" font-size=\"14.00\">preco &lt;= 40083.385</text>\n",
       "<text text-anchor=\"middle\" x=\"230\" y=\"-156.8\" font-family=\"Helvetica,sans-Serif\" font-size=\"14.00\">gini = 0.198</text>\n",
       "<text text-anchor=\"middle\" x=\"230\" y=\"-141.8\" font-family=\"Helvetica,sans-Serif\" font-size=\"14.00\">samples = 4347</text>\n",
       "<text text-anchor=\"middle\" x=\"230\" y=\"-126.8\" font-family=\"Helvetica,sans-Serif\" font-size=\"14.00\">value = [484, 3863]</text>\n",
       "<text text-anchor=\"middle\" x=\"230\" y=\"-111.8\" font-family=\"Helvetica,sans-Serif\" font-size=\"14.00\">class = sim</text>\n",
       "</g>\n",
       "<!-- 0&#45;&gt;1 -->\n",
       "<g id=\"edge1\" class=\"edge\">\n",
       "<title>0&#45;&gt;1</title>\n",
       "<path fill=\"none\" stroke=\"black\" d=\"M296.61,-222.91C288.7,-213.83 280.23,-204.12 272.08,-194.77\"/>\n",
       "<polygon fill=\"black\" stroke=\"black\" points=\"274.54,-192.26 265.33,-187.02 269.26,-196.86 274.54,-192.26\"/>\n",
       "<text text-anchor=\"middle\" x=\"263.62\" y=\"-208.26\" font-family=\"Helvetica,sans-Serif\" font-size=\"14.00\">True</text>\n",
       "</g>\n",
       "<!-- 4 -->\n",
       "<g id=\"node5\" class=\"node\">\n",
       "<title>4</title>\n",
       "<path fill=\"#f3c3a0\" stroke=\"black\" d=\"M528,-187C528,-187 342,-187 342,-187 336,-187 330,-181 330,-175 330,-175 330,-116 330,-116 330,-110 336,-104 342,-104 342,-104 528,-104 528,-104 534,-104 540,-110 540,-116 540,-116 540,-175 540,-175 540,-181 534,-187 528,-187\"/>\n",
       "<text text-anchor=\"middle\" x=\"435\" y=\"-171.8\" font-family=\"Helvetica,sans-Serif\" font-size=\"14.00\">km_por_ano &lt;= 24124.006</text>\n",
       "<text text-anchor=\"middle\" x=\"435\" y=\"-156.8\" font-family=\"Helvetica,sans-Serif\" font-size=\"14.00\">gini = 0.45</text>\n",
       "<text text-anchor=\"middle\" x=\"435\" y=\"-141.8\" font-family=\"Helvetica,sans-Serif\" font-size=\"14.00\">samples = 5653</text>\n",
       "<text text-anchor=\"middle\" x=\"435\" y=\"-126.8\" font-family=\"Helvetica,sans-Serif\" font-size=\"14.00\">value = [3716, 1937]</text>\n",
       "<text text-anchor=\"middle\" x=\"435\" y=\"-111.8\" font-family=\"Helvetica,sans-Serif\" font-size=\"14.00\">class = não</text>\n",
       "</g>\n",
       "<!-- 0&#45;&gt;4 -->\n",
       "<g id=\"edge4\" class=\"edge\">\n",
       "<title>0&#45;&gt;4</title>\n",
       "<path fill=\"none\" stroke=\"black\" d=\"M367.74,-222.91C375.72,-213.83 384.27,-204.12 392.51,-194.77\"/>\n",
       "<polygon fill=\"black\" stroke=\"black\" points=\"395.35,-196.84 399.33,-187.02 390.09,-192.21 395.35,-196.84\"/>\n",
       "<text text-anchor=\"middle\" x=\"400.92\" y=\"-208.27\" font-family=\"Helvetica,sans-Serif\" font-size=\"14.00\">False</text>\n",
       "</g>\n",
       "<!-- 2 -->\n",
       "<g id=\"node3\" class=\"node\">\n",
       "<title>2</title>\n",
       "<path fill=\"#399de5\" stroke=\"black\" d=\"M128,-68C128,-68 12,-68 12,-68 6,-68 0,-62 0,-56 0,-56 0,-12 0,-12 0,-6 6,0 12,0 12,0 128,0 128,0 134,0 140,-6 140,-12 140,-12 140,-56 140,-56 140,-62 134,-68 128,-68\"/>\n",
       "<text text-anchor=\"middle\" x=\"70\" y=\"-52.8\" font-family=\"Helvetica,sans-Serif\" font-size=\"14.00\">gini = 0.0</text>\n",
       "<text text-anchor=\"middle\" x=\"70\" y=\"-37.8\" font-family=\"Helvetica,sans-Serif\" font-size=\"14.00\">samples = 1935</text>\n",
       "<text text-anchor=\"middle\" x=\"70\" y=\"-22.8\" font-family=\"Helvetica,sans-Serif\" font-size=\"14.00\">value = [0, 1935]</text>\n",
       "<text text-anchor=\"middle\" x=\"70\" y=\"-7.8\" font-family=\"Helvetica,sans-Serif\" font-size=\"14.00\">class = sim</text>\n",
       "</g>\n",
       "<!-- 1&#45;&gt;2 -->\n",
       "<g id=\"edge2\" class=\"edge\">\n",
       "<title>1&#45;&gt;2</title>\n",
       "<path fill=\"none\" stroke=\"black\" d=\"M170.42,-103.73C156.22,-94.01 141.1,-83.66 127.02,-74.02\"/>\n",
       "<polygon fill=\"black\" stroke=\"black\" points=\"128.63,-70.88 118.4,-68.13 124.68,-76.66 128.63,-70.88\"/>\n",
       "</g>\n",
       "<!-- 3 -->\n",
       "<g id=\"node4\" class=\"node\">\n",
       "<title>3</title>\n",
       "<path fill=\"#6bb6ec\" stroke=\"black\" d=\"M304,-68C304,-68 170,-68 170,-68 164,-68 158,-62 158,-56 158,-56 158,-12 158,-12 158,-6 164,0 170,0 170,0 304,0 304,0 310,0 316,-6 316,-12 316,-12 316,-56 316,-56 316,-62 310,-68 304,-68\"/>\n",
       "<text text-anchor=\"middle\" x=\"237\" y=\"-52.8\" font-family=\"Helvetica,sans-Serif\" font-size=\"14.00\">gini = 0.321</text>\n",
       "<text text-anchor=\"middle\" x=\"237\" y=\"-37.8\" font-family=\"Helvetica,sans-Serif\" font-size=\"14.00\">samples = 2412</text>\n",
       "<text text-anchor=\"middle\" x=\"237\" y=\"-22.8\" font-family=\"Helvetica,sans-Serif\" font-size=\"14.00\">value = [484, 1928]</text>\n",
       "<text text-anchor=\"middle\" x=\"237\" y=\"-7.8\" font-family=\"Helvetica,sans-Serif\" font-size=\"14.00\">class = sim</text>\n",
       "</g>\n",
       "<!-- 1&#45;&gt;3 -->\n",
       "<g id=\"edge3\" class=\"edge\">\n",
       "<title>1&#45;&gt;3</title>\n",
       "<path fill=\"none\" stroke=\"black\" d=\"M232.61,-103.73C233.14,-95.43 233.7,-86.67 234.23,-78.28\"/>\n",
       "<polygon fill=\"black\" stroke=\"black\" points=\"237.73,-78.5 234.87,-68.3 230.74,-78.06 237.73,-78.5\"/>\n",
       "</g>\n",
       "<!-- 5 -->\n",
       "<g id=\"node6\" class=\"node\">\n",
       "<title>5</title>\n",
       "<path fill=\"#fcefe5\" stroke=\"black\" d=\"M500.5,-68C500.5,-68 357.5,-68 357.5,-68 351.5,-68 345.5,-62 345.5,-56 345.5,-56 345.5,-12 345.5,-12 345.5,-6 351.5,0 357.5,0 357.5,0 500.5,0 500.5,0 506.5,0 512.5,-6 512.5,-12 512.5,-12 512.5,-56 512.5,-56 512.5,-62 506.5,-68 500.5,-68\"/>\n",
       "<text text-anchor=\"middle\" x=\"429\" y=\"-52.8\" font-family=\"Helvetica,sans-Serif\" font-size=\"14.00\">gini = 0.498</text>\n",
       "<text text-anchor=\"middle\" x=\"429\" y=\"-37.8\" font-family=\"Helvetica,sans-Serif\" font-size=\"14.00\">samples = 3513</text>\n",
       "<text text-anchor=\"middle\" x=\"429\" y=\"-22.8\" font-family=\"Helvetica,sans-Serif\" font-size=\"14.00\">value = [1879, 1634]</text>\n",
       "<text text-anchor=\"middle\" x=\"429\" y=\"-7.8\" font-family=\"Helvetica,sans-Serif\" font-size=\"14.00\">class = não</text>\n",
       "</g>\n",
       "<!-- 4&#45;&gt;5 -->\n",
       "<g id=\"edge5\" class=\"edge\">\n",
       "<title>4&#45;&gt;5</title>\n",
       "<path fill=\"none\" stroke=\"black\" d=\"M432.77,-103.73C432.32,-95.52 431.84,-86.86 431.39,-78.56\"/>\n",
       "<polygon fill=\"black\" stroke=\"black\" points=\"434.87,-78.09 430.82,-68.3 427.88,-78.48 434.87,-78.09\"/>\n",
       "</g>\n",
       "<!-- 6 -->\n",
       "<g id=\"node7\" class=\"node\">\n",
       "<title>6</title>\n",
       "<path fill=\"#e9965a\" stroke=\"black\" d=\"M676,-68C676,-68 542,-68 542,-68 536,-68 530,-62 530,-56 530,-56 530,-12 530,-12 530,-6 536,0 542,0 542,0 676,0 676,0 682,0 688,-6 688,-12 688,-12 688,-56 688,-56 688,-62 682,-68 676,-68\"/>\n",
       "<text text-anchor=\"middle\" x=\"609\" y=\"-52.8\" font-family=\"Helvetica,sans-Serif\" font-size=\"14.00\">gini = 0.243</text>\n",
       "<text text-anchor=\"middle\" x=\"609\" y=\"-37.8\" font-family=\"Helvetica,sans-Serif\" font-size=\"14.00\">samples = 2140</text>\n",
       "<text text-anchor=\"middle\" x=\"609\" y=\"-22.8\" font-family=\"Helvetica,sans-Serif\" font-size=\"14.00\">value = [1837, 303]</text>\n",
       "<text text-anchor=\"middle\" x=\"609\" y=\"-7.8\" font-family=\"Helvetica,sans-Serif\" font-size=\"14.00\">class = não</text>\n",
       "</g>\n",
       "<!-- 4&#45;&gt;6 -->\n",
       "<g id=\"edge6\" class=\"edge\">\n",
       "<title>4&#45;&gt;6</title>\n",
       "<path fill=\"none\" stroke=\"black\" d=\"M499.79,-103.73C515.53,-93.82 532.3,-83.27 547.86,-73.48\"/>\n",
       "<polygon fill=\"black\" stroke=\"black\" points=\"549.76,-76.41 556.36,-68.13 546.03,-70.49 549.76,-76.41\"/>\n",
       "</g>\n",
       "</g>\n",
       "</svg>\n"
      ],
      "text/plain": [
       "<graphviz.files.Source at 0x7f3f1d8dca90>"
      ]
     },
     "execution_count": 10,
     "metadata": {},
     "output_type": "execute_result"
    }
   ],
   "source": [
    "from sklearn.tree import export_graphviz\n",
    "import graphviz\n",
    "\n",
    "modelo.fit(x_azar, y_azar)\n",
    "features = x_azar.columns\n",
    "dot_data = export_graphviz(modelo, out_file=None, filled=True, rounded=True,\n",
    "                          class_names=[\"não\",\"sim\"],\n",
    "                          feature_names = features)\n",
    "graph = graphviz.Source(dot_data)\n",
    "graph"
   ]
  },
  {
   "cell_type": "code",
   "execution_count": 11,
   "metadata": {
    "colab": {
     "base_uri": "https://localhost:8080/",
     "height": 50
    },
    "colab_type": "code",
    "id": "zdfgLexRPQ54",
    "outputId": "c8c75555-27f2-4ceb-e31b-57d7938723f3"
   },
   "outputs": [
    {
     "name": "stdout",
     "output_type": "stream",
     "text": [
      "Accuracy médio 78.67\n",
      "Intervalo [76.40, 80.94]\n"
     ]
    }
   ],
   "source": [
    "# GroupKFold para analisar como o modelo se comporta com novos grupos\n",
    "\n",
    "from sklearn.model_selection import GroupKFold\n",
    "\n",
    "SEED = 301\n",
    "np.random.seed(SEED)\n",
    "\n",
    "cv = GroupKFold(n_splits = 10)\n",
    "modelo = DecisionTreeClassifier(max_depth=3)\n",
    "results = cross_validate(modelo, x_azar, y_azar, cv = cv, groups = dados.modelo, return_train_score=False)\n",
    "imprime_resultados(results)"
   ]
  },
  {
   "cell_type": "code",
   "execution_count": 12,
   "metadata": {
    "colab": {
     "base_uri": "https://localhost:8080/",
     "height": 618
    },
    "colab_type": "code",
    "id": "kSe6rPpdQ4Wy",
    "outputId": "e93cc869-3790-4c65-d712-fb1dc82111dc"
   },
   "outputs": [
    {
     "data": {
      "image/svg+xml": [
       "<?xml version=\"1.0\" encoding=\"UTF-8\" standalone=\"no\"?>\n",
       "<!DOCTYPE svg PUBLIC \"-//W3C//DTD SVG 1.1//EN\"\n",
       " \"http://www.w3.org/Graphics/SVG/1.1/DTD/svg11.dtd\">\n",
       "<!-- Generated by graphviz version 2.43.0 (0)\n",
       " -->\n",
       "<!-- Title: Tree Pages: 1 -->\n",
       "<svg width=\"1013pt\" height=\"433pt\"\n",
       " viewBox=\"0.00 0.00 1012.50 433.00\" xmlns=\"http://www.w3.org/2000/svg\" xmlns:xlink=\"http://www.w3.org/1999/xlink\">\n",
       "<g id=\"graph0\" class=\"graph\" transform=\"scale(1 1) rotate(0) translate(4 429)\">\n",
       "<title>Tree</title>\n",
       "<polygon fill=\"white\" stroke=\"transparent\" points=\"-4,4 -4,-429 1008.5,-429 1008.5,4 -4,4\"/>\n",
       "<!-- 0 -->\n",
       "<g id=\"node1\" class=\"node\">\n",
       "<title>0</title>\n",
       "<path fill=\"#c8e4f8\" stroke=\"black\" d=\"M413.5,-425C413.5,-425 270.5,-425 270.5,-425 264.5,-425 258.5,-419 258.5,-413 258.5,-413 258.5,-354 258.5,-354 258.5,-348 264.5,-342 270.5,-342 270.5,-342 413.5,-342 413.5,-342 419.5,-342 425.5,-348 425.5,-354 425.5,-354 425.5,-413 425.5,-413 425.5,-419 419.5,-425 413.5,-425\"/>\n",
       "<text text-anchor=\"middle\" x=\"342\" y=\"-409.8\" font-family=\"Helvetica,sans-Serif\" font-size=\"14.00\">preco &lt;= 59982.246</text>\n",
       "<text text-anchor=\"middle\" x=\"342\" y=\"-394.8\" font-family=\"Helvetica,sans-Serif\" font-size=\"14.00\">gini = 0.487</text>\n",
       "<text text-anchor=\"middle\" x=\"342\" y=\"-379.8\" font-family=\"Helvetica,sans-Serif\" font-size=\"14.00\">samples = 10000</text>\n",
       "<text text-anchor=\"middle\" x=\"342\" y=\"-364.8\" font-family=\"Helvetica,sans-Serif\" font-size=\"14.00\">value = [4200, 5800]</text>\n",
       "<text text-anchor=\"middle\" x=\"342\" y=\"-349.8\" font-family=\"Helvetica,sans-Serif\" font-size=\"14.00\">class = sim</text>\n",
       "</g>\n",
       "<!-- 1 -->\n",
       "<g id=\"node2\" class=\"node\">\n",
       "<title>1</title>\n",
       "<path fill=\"#52a9e8\" stroke=\"black\" d=\"M310,-306C310,-306 170,-306 170,-306 164,-306 158,-300 158,-294 158,-294 158,-235 158,-235 158,-229 164,-223 170,-223 170,-223 310,-223 310,-223 316,-223 322,-229 322,-235 322,-235 322,-294 322,-294 322,-300 316,-306 310,-306\"/>\n",
       "<text text-anchor=\"middle\" x=\"240\" y=\"-290.8\" font-family=\"Helvetica,sans-Serif\" font-size=\"14.00\">preco &lt;= 40083.385</text>\n",
       "<text text-anchor=\"middle\" x=\"240\" y=\"-275.8\" font-family=\"Helvetica,sans-Serif\" font-size=\"14.00\">gini = 0.198</text>\n",
       "<text text-anchor=\"middle\" x=\"240\" y=\"-260.8\" font-family=\"Helvetica,sans-Serif\" font-size=\"14.00\">samples = 4347</text>\n",
       "<text text-anchor=\"middle\" x=\"240\" y=\"-245.8\" font-family=\"Helvetica,sans-Serif\" font-size=\"14.00\">value = [484, 3863]</text>\n",
       "<text text-anchor=\"middle\" x=\"240\" y=\"-230.8\" font-family=\"Helvetica,sans-Serif\" font-size=\"14.00\">class = sim</text>\n",
       "</g>\n",
       "<!-- 0&#45;&gt;1 -->\n",
       "<g id=\"edge1\" class=\"edge\">\n",
       "<title>0&#45;&gt;1</title>\n",
       "<path fill=\"none\" stroke=\"black\" d=\"M306.61,-341.91C298.7,-332.83 290.23,-323.12 282.08,-313.77\"/>\n",
       "<polygon fill=\"black\" stroke=\"black\" points=\"284.54,-311.26 275.33,-306.02 279.26,-315.86 284.54,-311.26\"/>\n",
       "<text text-anchor=\"middle\" x=\"273.62\" y=\"-327.26\" font-family=\"Helvetica,sans-Serif\" font-size=\"14.00\">True</text>\n",
       "</g>\n",
       "<!-- 6 -->\n",
       "<g id=\"node7\" class=\"node\">\n",
       "<title>6</title>\n",
       "<path fill=\"#f3c3a0\" stroke=\"black\" d=\"M603,-306C603,-306 417,-306 417,-306 411,-306 405,-300 405,-294 405,-294 405,-235 405,-235 405,-229 411,-223 417,-223 417,-223 603,-223 603,-223 609,-223 615,-229 615,-235 615,-235 615,-294 615,-294 615,-300 609,-306 603,-306\"/>\n",
       "<text text-anchor=\"middle\" x=\"510\" y=\"-290.8\" font-family=\"Helvetica,sans-Serif\" font-size=\"14.00\">km_por_ano &lt;= 24124.006</text>\n",
       "<text text-anchor=\"middle\" x=\"510\" y=\"-275.8\" font-family=\"Helvetica,sans-Serif\" font-size=\"14.00\">gini = 0.45</text>\n",
       "<text text-anchor=\"middle\" x=\"510\" y=\"-260.8\" font-family=\"Helvetica,sans-Serif\" font-size=\"14.00\">samples = 5653</text>\n",
       "<text text-anchor=\"middle\" x=\"510\" y=\"-245.8\" font-family=\"Helvetica,sans-Serif\" font-size=\"14.00\">value = [3716, 1937]</text>\n",
       "<text text-anchor=\"middle\" x=\"510\" y=\"-230.8\" font-family=\"Helvetica,sans-Serif\" font-size=\"14.00\">class = não</text>\n",
       "</g>\n",
       "<!-- 0&#45;&gt;6 -->\n",
       "<g id=\"edge6\" class=\"edge\">\n",
       "<title>0&#45;&gt;6</title>\n",
       "<path fill=\"none\" stroke=\"black\" d=\"M400.29,-341.91C414.23,-332.2 429.22,-321.76 443.5,-311.81\"/>\n",
       "<polygon fill=\"black\" stroke=\"black\" points=\"445.61,-314.61 451.82,-306.02 441.61,-308.86 445.61,-314.61\"/>\n",
       "<text text-anchor=\"middle\" x=\"447.41\" y=\"-326.93\" font-family=\"Helvetica,sans-Serif\" font-size=\"14.00\">False</text>\n",
       "</g>\n",
       "<!-- 2 -->\n",
       "<g id=\"node3\" class=\"node\">\n",
       "<title>2</title>\n",
       "<path fill=\"#399de5\" stroke=\"black\" d=\"M128,-179.5C128,-179.5 12,-179.5 12,-179.5 6,-179.5 0,-173.5 0,-167.5 0,-167.5 0,-123.5 0,-123.5 0,-117.5 6,-111.5 12,-111.5 12,-111.5 128,-111.5 128,-111.5 134,-111.5 140,-117.5 140,-123.5 140,-123.5 140,-167.5 140,-167.5 140,-173.5 134,-179.5 128,-179.5\"/>\n",
       "<text text-anchor=\"middle\" x=\"70\" y=\"-164.3\" font-family=\"Helvetica,sans-Serif\" font-size=\"14.00\">gini = 0.0</text>\n",
       "<text text-anchor=\"middle\" x=\"70\" y=\"-149.3\" font-family=\"Helvetica,sans-Serif\" font-size=\"14.00\">samples = 1935</text>\n",
       "<text text-anchor=\"middle\" x=\"70\" y=\"-134.3\" font-family=\"Helvetica,sans-Serif\" font-size=\"14.00\">value = [0, 1935]</text>\n",
       "<text text-anchor=\"middle\" x=\"70\" y=\"-119.3\" font-family=\"Helvetica,sans-Serif\" font-size=\"14.00\">class = sim</text>\n",
       "</g>\n",
       "<!-- 1&#45;&gt;2 -->\n",
       "<g id=\"edge2\" class=\"edge\">\n",
       "<title>1&#45;&gt;2</title>\n",
       "<path fill=\"none\" stroke=\"black\" d=\"M181.02,-222.91C163.38,-210.77 144.09,-197.49 126.61,-185.46\"/>\n",
       "<polygon fill=\"black\" stroke=\"black\" points=\"128.41,-182.45 118.19,-179.67 124.44,-188.22 128.41,-182.45\"/>\n",
       "</g>\n",
       "<!-- 3 -->\n",
       "<g id=\"node4\" class=\"node\">\n",
       "<title>3</title>\n",
       "<path fill=\"#6bb6ec\" stroke=\"black\" d=\"M310,-187C310,-187 170,-187 170,-187 164,-187 158,-181 158,-175 158,-175 158,-116 158,-116 158,-110 164,-104 170,-104 170,-104 310,-104 310,-104 316,-104 322,-110 322,-116 322,-116 322,-175 322,-175 322,-181 316,-187 310,-187\"/>\n",
       "<text text-anchor=\"middle\" x=\"240\" y=\"-171.8\" font-family=\"Helvetica,sans-Serif\" font-size=\"14.00\">preco &lt;= 41083.029</text>\n",
       "<text text-anchor=\"middle\" x=\"240\" y=\"-156.8\" font-family=\"Helvetica,sans-Serif\" font-size=\"14.00\">gini = 0.321</text>\n",
       "<text text-anchor=\"middle\" x=\"240\" y=\"-141.8\" font-family=\"Helvetica,sans-Serif\" font-size=\"14.00\">samples = 2412</text>\n",
       "<text text-anchor=\"middle\" x=\"240\" y=\"-126.8\" font-family=\"Helvetica,sans-Serif\" font-size=\"14.00\">value = [484, 1928]</text>\n",
       "<text text-anchor=\"middle\" x=\"240\" y=\"-111.8\" font-family=\"Helvetica,sans-Serif\" font-size=\"14.00\">class = sim</text>\n",
       "</g>\n",
       "<!-- 1&#45;&gt;3 -->\n",
       "<g id=\"edge3\" class=\"edge\">\n",
       "<title>1&#45;&gt;3</title>\n",
       "<path fill=\"none\" stroke=\"black\" d=\"M240,-222.91C240,-214.65 240,-205.86 240,-197.3\"/>\n",
       "<polygon fill=\"black\" stroke=\"black\" points=\"243.5,-197.02 240,-187.02 236.5,-197.02 243.5,-197.02\"/>\n",
       "</g>\n",
       "<!-- 4 -->\n",
       "<g id=\"node5\" class=\"node\">\n",
       "<title>4</title>\n",
       "<path fill=\"#95cbf1\" stroke=\"black\" d=\"M130.5,-68C130.5,-68 23.5,-68 23.5,-68 17.5,-68 11.5,-62 11.5,-56 11.5,-56 11.5,-12 11.5,-12 11.5,-6 17.5,0 23.5,0 23.5,0 130.5,0 130.5,0 136.5,0 142.5,-6 142.5,-12 142.5,-12 142.5,-56 142.5,-56 142.5,-62 136.5,-68 130.5,-68\"/>\n",
       "<text text-anchor=\"middle\" x=\"77\" y=\"-52.8\" font-family=\"Helvetica,sans-Serif\" font-size=\"14.00\">gini = 0.434</text>\n",
       "<text text-anchor=\"middle\" x=\"77\" y=\"-37.8\" font-family=\"Helvetica,sans-Serif\" font-size=\"14.00\">samples = 110</text>\n",
       "<text text-anchor=\"middle\" x=\"77\" y=\"-22.8\" font-family=\"Helvetica,sans-Serif\" font-size=\"14.00\">value = [35, 75]</text>\n",
       "<text text-anchor=\"middle\" x=\"77\" y=\"-7.8\" font-family=\"Helvetica,sans-Serif\" font-size=\"14.00\">class = sim</text>\n",
       "</g>\n",
       "<!-- 3&#45;&gt;4 -->\n",
       "<g id=\"edge4\" class=\"edge\">\n",
       "<title>3&#45;&gt;4</title>\n",
       "<path fill=\"none\" stroke=\"black\" d=\"M179.3,-103.73C164.7,-93.92 149.14,-83.46 134.68,-73.75\"/>\n",
       "<polygon fill=\"black\" stroke=\"black\" points=\"136.56,-70.8 126.31,-68.13 132.66,-76.61 136.56,-70.8\"/>\n",
       "</g>\n",
       "<!-- 5 -->\n",
       "<g id=\"node6\" class=\"node\">\n",
       "<title>5</title>\n",
       "<path fill=\"#69b5eb\" stroke=\"black\" d=\"M307,-68C307,-68 173,-68 173,-68 167,-68 161,-62 161,-56 161,-56 161,-12 161,-12 161,-6 167,0 173,0 173,0 307,0 307,0 313,0 319,-6 319,-12 319,-12 319,-56 319,-56 319,-62 313,-68 307,-68\"/>\n",
       "<text text-anchor=\"middle\" x=\"240\" y=\"-52.8\" font-family=\"Helvetica,sans-Serif\" font-size=\"14.00\">gini = 0.314</text>\n",
       "<text text-anchor=\"middle\" x=\"240\" y=\"-37.8\" font-family=\"Helvetica,sans-Serif\" font-size=\"14.00\">samples = 2302</text>\n",
       "<text text-anchor=\"middle\" x=\"240\" y=\"-22.8\" font-family=\"Helvetica,sans-Serif\" font-size=\"14.00\">value = [449, 1853]</text>\n",
       "<text text-anchor=\"middle\" x=\"240\" y=\"-7.8\" font-family=\"Helvetica,sans-Serif\" font-size=\"14.00\">class = sim</text>\n",
       "</g>\n",
       "<!-- 3&#45;&gt;5 -->\n",
       "<g id=\"edge5\" class=\"edge\">\n",
       "<title>3&#45;&gt;5</title>\n",
       "<path fill=\"none\" stroke=\"black\" d=\"M240,-103.73C240,-95.52 240,-86.86 240,-78.56\"/>\n",
       "<polygon fill=\"black\" stroke=\"black\" points=\"243.5,-78.3 240,-68.3 236.5,-78.3 243.5,-78.3\"/>\n",
       "</g>\n",
       "<!-- 7 -->\n",
       "<g id=\"node8\" class=\"node\">\n",
       "<title>7</title>\n",
       "<path fill=\"#fcefe5\" stroke=\"black\" d=\"M581.5,-187C581.5,-187 438.5,-187 438.5,-187 432.5,-187 426.5,-181 426.5,-175 426.5,-175 426.5,-116 426.5,-116 426.5,-110 432.5,-104 438.5,-104 438.5,-104 581.5,-104 581.5,-104 587.5,-104 593.5,-110 593.5,-116 593.5,-116 593.5,-175 593.5,-175 593.5,-181 587.5,-187 581.5,-187\"/>\n",
       "<text text-anchor=\"middle\" x=\"510\" y=\"-171.8\" font-family=\"Helvetica,sans-Serif\" font-size=\"14.00\">preco &lt;= 99974.41</text>\n",
       "<text text-anchor=\"middle\" x=\"510\" y=\"-156.8\" font-family=\"Helvetica,sans-Serif\" font-size=\"14.00\">gini = 0.498</text>\n",
       "<text text-anchor=\"middle\" x=\"510\" y=\"-141.8\" font-family=\"Helvetica,sans-Serif\" font-size=\"14.00\">samples = 3513</text>\n",
       "<text text-anchor=\"middle\" x=\"510\" y=\"-126.8\" font-family=\"Helvetica,sans-Serif\" font-size=\"14.00\">value = [1879, 1634]</text>\n",
       "<text text-anchor=\"middle\" x=\"510\" y=\"-111.8\" font-family=\"Helvetica,sans-Serif\" font-size=\"14.00\">class = não</text>\n",
       "</g>\n",
       "<!-- 6&#45;&gt;7 -->\n",
       "<g id=\"edge7\" class=\"edge\">\n",
       "<title>6&#45;&gt;7</title>\n",
       "<path fill=\"none\" stroke=\"black\" d=\"M510,-222.91C510,-214.65 510,-205.86 510,-197.3\"/>\n",
       "<polygon fill=\"black\" stroke=\"black\" points=\"513.5,-197.02 510,-187.02 506.5,-197.02 513.5,-197.02\"/>\n",
       "</g>\n",
       "<!-- 10 -->\n",
       "<g id=\"node11\" class=\"node\">\n",
       "<title>10</title>\n",
       "<path fill=\"#e9965a\" stroke=\"black\" d=\"M837.5,-187C837.5,-187 688.5,-187 688.5,-187 682.5,-187 676.5,-181 676.5,-175 676.5,-175 676.5,-116 676.5,-116 676.5,-110 682.5,-104 688.5,-104 688.5,-104 837.5,-104 837.5,-104 843.5,-104 849.5,-110 849.5,-116 849.5,-116 849.5,-175 849.5,-175 849.5,-181 843.5,-187 837.5,-187\"/>\n",
       "<text text-anchor=\"middle\" x=\"763\" y=\"-171.8\" font-family=\"Helvetica,sans-Serif\" font-size=\"14.00\">preco &lt;= 100076.957</text>\n",
       "<text text-anchor=\"middle\" x=\"763\" y=\"-156.8\" font-family=\"Helvetica,sans-Serif\" font-size=\"14.00\">gini = 0.243</text>\n",
       "<text text-anchor=\"middle\" x=\"763\" y=\"-141.8\" font-family=\"Helvetica,sans-Serif\" font-size=\"14.00\">samples = 2140</text>\n",
       "<text text-anchor=\"middle\" x=\"763\" y=\"-126.8\" font-family=\"Helvetica,sans-Serif\" font-size=\"14.00\">value = [1837, 303]</text>\n",
       "<text text-anchor=\"middle\" x=\"763\" y=\"-111.8\" font-family=\"Helvetica,sans-Serif\" font-size=\"14.00\">class = não</text>\n",
       "</g>\n",
       "<!-- 6&#45;&gt;10 -->\n",
       "<g id=\"edge10\" class=\"edge\">\n",
       "<title>6&#45;&gt;10</title>\n",
       "<path fill=\"none\" stroke=\"black\" d=\"M597.78,-222.91C620.1,-212.58 644.21,-201.43 666.93,-190.93\"/>\n",
       "<polygon fill=\"black\" stroke=\"black\" points=\"668.63,-194 676.23,-186.63 665.69,-187.65 668.63,-194\"/>\n",
       "</g>\n",
       "<!-- 8 -->\n",
       "<g id=\"node9\" class=\"node\">\n",
       "<title>8</title>\n",
       "<path fill=\"#f9e0ce\" stroke=\"black\" d=\"M491.5,-68C491.5,-68 348.5,-68 348.5,-68 342.5,-68 336.5,-62 336.5,-56 336.5,-56 336.5,-12 336.5,-12 336.5,-6 342.5,0 348.5,0 348.5,0 491.5,0 491.5,0 497.5,0 503.5,-6 503.5,-12 503.5,-12 503.5,-56 503.5,-56 503.5,-62 497.5,-68 491.5,-68\"/>\n",
       "<text text-anchor=\"middle\" x=\"420\" y=\"-52.8\" font-family=\"Helvetica,sans-Serif\" font-size=\"14.00\">gini = 0.49</text>\n",
       "<text text-anchor=\"middle\" x=\"420\" y=\"-37.8\" font-family=\"Helvetica,sans-Serif\" font-size=\"14.00\">samples = 2944</text>\n",
       "<text text-anchor=\"middle\" x=\"420\" y=\"-22.8\" font-family=\"Helvetica,sans-Serif\" font-size=\"14.00\">value = [1682, 1262]</text>\n",
       "<text text-anchor=\"middle\" x=\"420\" y=\"-7.8\" font-family=\"Helvetica,sans-Serif\" font-size=\"14.00\">class = não</text>\n",
       "</g>\n",
       "<!-- 7&#45;&gt;8 -->\n",
       "<g id=\"edge8\" class=\"edge\">\n",
       "<title>7&#45;&gt;8</title>\n",
       "<path fill=\"none\" stroke=\"black\" d=\"M476.49,-103.73C469.07,-94.7 461.2,-85.12 453.77,-76.08\"/>\n",
       "<polygon fill=\"black\" stroke=\"black\" points=\"456.42,-73.8 447.37,-68.3 451.02,-78.25 456.42,-73.8\"/>\n",
       "</g>\n",
       "<!-- 9 -->\n",
       "<g id=\"node10\" class=\"node\">\n",
       "<title>9</title>\n",
       "<path fill=\"#a2d1f3\" stroke=\"black\" d=\"M658.5,-68C658.5,-68 533.5,-68 533.5,-68 527.5,-68 521.5,-62 521.5,-56 521.5,-56 521.5,-12 521.5,-12 521.5,-6 527.5,0 533.5,0 533.5,0 658.5,0 658.5,0 664.5,0 670.5,-6 670.5,-12 670.5,-12 670.5,-56 670.5,-56 670.5,-62 664.5,-68 658.5,-68\"/>\n",
       "<text text-anchor=\"middle\" x=\"596\" y=\"-52.8\" font-family=\"Helvetica,sans-Serif\" font-size=\"14.00\">gini = 0.453</text>\n",
       "<text text-anchor=\"middle\" x=\"596\" y=\"-37.8\" font-family=\"Helvetica,sans-Serif\" font-size=\"14.00\">samples = 569</text>\n",
       "<text text-anchor=\"middle\" x=\"596\" y=\"-22.8\" font-family=\"Helvetica,sans-Serif\" font-size=\"14.00\">value = [197, 372]</text>\n",
       "<text text-anchor=\"middle\" x=\"596\" y=\"-7.8\" font-family=\"Helvetica,sans-Serif\" font-size=\"14.00\">class = sim</text>\n",
       "</g>\n",
       "<!-- 7&#45;&gt;9 -->\n",
       "<g id=\"edge9\" class=\"edge\">\n",
       "<title>7&#45;&gt;9</title>\n",
       "<path fill=\"none\" stroke=\"black\" d=\"M542.02,-103.73C549.04,-94.79 556.48,-85.32 563.52,-76.36\"/>\n",
       "<polygon fill=\"black\" stroke=\"black\" points=\"566.42,-78.33 569.85,-68.3 560.92,-74 566.42,-78.33\"/>\n",
       "</g>\n",
       "<!-- 11 -->\n",
       "<g id=\"node12\" class=\"node\">\n",
       "<title>11</title>\n",
       "<path fill=\"#e68742\" stroke=\"black\" d=\"M825.5,-68C825.5,-68 700.5,-68 700.5,-68 694.5,-68 688.5,-62 688.5,-56 688.5,-56 688.5,-12 688.5,-12 688.5,-6 694.5,0 700.5,0 700.5,0 825.5,0 825.5,0 831.5,0 837.5,-6 837.5,-12 837.5,-12 837.5,-56 837.5,-56 837.5,-62 831.5,-68 825.5,-68\"/>\n",
       "<text text-anchor=\"middle\" x=\"763\" y=\"-52.8\" font-family=\"Helvetica,sans-Serif\" font-size=\"14.00\">gini = 0.082</text>\n",
       "<text text-anchor=\"middle\" x=\"763\" y=\"-37.8\" font-family=\"Helvetica,sans-Serif\" font-size=\"14.00\">samples = 1809</text>\n",
       "<text text-anchor=\"middle\" x=\"763\" y=\"-22.8\" font-family=\"Helvetica,sans-Serif\" font-size=\"14.00\">value = [1732, 77]</text>\n",
       "<text text-anchor=\"middle\" x=\"763\" y=\"-7.8\" font-family=\"Helvetica,sans-Serif\" font-size=\"14.00\">class = não</text>\n",
       "</g>\n",
       "<!-- 10&#45;&gt;11 -->\n",
       "<g id=\"edge11\" class=\"edge\">\n",
       "<title>10&#45;&gt;11</title>\n",
       "<path fill=\"none\" stroke=\"black\" d=\"M763,-103.73C763,-95.52 763,-86.86 763,-78.56\"/>\n",
       "<polygon fill=\"black\" stroke=\"black\" points=\"766.5,-78.3 763,-68.3 759.5,-78.3 766.5,-78.3\"/>\n",
       "</g>\n",
       "<!-- 12 -->\n",
       "<g id=\"node13\" class=\"node\">\n",
       "<title>12</title>\n",
       "<path fill=\"#95cbf1\" stroke=\"black\" d=\"M992.5,-68C992.5,-68 867.5,-68 867.5,-68 861.5,-68 855.5,-62 855.5,-56 855.5,-56 855.5,-12 855.5,-12 855.5,-6 861.5,0 867.5,0 867.5,0 992.5,0 992.5,0 998.5,0 1004.5,-6 1004.5,-12 1004.5,-12 1004.5,-56 1004.5,-56 1004.5,-62 998.5,-68 992.5,-68\"/>\n",
       "<text text-anchor=\"middle\" x=\"930\" y=\"-52.8\" font-family=\"Helvetica,sans-Serif\" font-size=\"14.00\">gini = 0.433</text>\n",
       "<text text-anchor=\"middle\" x=\"930\" y=\"-37.8\" font-family=\"Helvetica,sans-Serif\" font-size=\"14.00\">samples = 331</text>\n",
       "<text text-anchor=\"middle\" x=\"930\" y=\"-22.8\" font-family=\"Helvetica,sans-Serif\" font-size=\"14.00\">value = [105, 226]</text>\n",
       "<text text-anchor=\"middle\" x=\"930\" y=\"-7.8\" font-family=\"Helvetica,sans-Serif\" font-size=\"14.00\">class = sim</text>\n",
       "</g>\n",
       "<!-- 10&#45;&gt;12 -->\n",
       "<g id=\"edge12\" class=\"edge\">\n",
       "<title>10&#45;&gt;12</title>\n",
       "<path fill=\"none\" stroke=\"black\" d=\"M825.18,-103.73C840.15,-93.92 856.09,-83.46 870.9,-73.75\"/>\n",
       "<polygon fill=\"black\" stroke=\"black\" points=\"873.04,-76.54 879.48,-68.13 869.2,-70.68 873.04,-76.54\"/>\n",
       "</g>\n",
       "</g>\n",
       "</svg>\n"
      ],
      "text/plain": [
       "<graphviz.files.Source at 0x7f3f1d8ecac0>"
      ]
     },
     "execution_count": 12,
     "metadata": {},
     "output_type": "execute_result"
    }
   ],
   "source": [
    "from sklearn.tree import export_graphviz\n",
    "import graphviz\n",
    "\n",
    "modelo.fit(x_azar, y_azar)\n",
    "features = x_azar.columns\n",
    "dot_data = export_graphviz(modelo, out_file=None, filled=True, rounded=True,\n",
    "                          class_names=[\"não\",\"sim\"],\n",
    "                          feature_names = features)\n",
    "graph = graphviz.Source(dot_data)\n",
    "graph"
   ]
  },
  {
   "cell_type": "code",
   "execution_count": 13,
   "metadata": {
    "colab": {
     "base_uri": "https://localhost:8080/",
     "height": 50
    },
    "colab_type": "code",
    "id": "2mZNqHhCQ7DO",
    "outputId": "e74e04e4-ddf8-442d-f530-ab40b3db04dc"
   },
   "outputs": [
    {
     "name": "stdout",
     "output_type": "stream",
     "text": [
      "Accuracy médio 77.19\n",
      "Intervalo [75.26, 79.13]\n"
     ]
    }
   ],
   "source": [
    "# GroupKFold para analisar como o modelo se comporta com novos grupos\n",
    "\n",
    "from sklearn.model_selection import GroupKFold\n",
    "\n",
    "SEED = 301\n",
    "np.random.seed(SEED)\n",
    "\n",
    "cv = GroupKFold(n_splits = 10)\n",
    "modelo = DecisionTreeClassifier(max_depth=10)\n",
    "results = cross_validate(modelo, x_azar, y_azar, cv = cv, groups = dados.modelo, return_train_score=False)\n",
    "imprime_resultados(results)"
   ]
  },
  {
   "cell_type": "markdown",
   "metadata": {
    "colab_type": "text",
    "id": "GMXJcGqWTiIp"
   },
   "source": [
    "# Testando parâmetros"
   ]
  },
  {
   "cell_type": "code",
   "execution_count": 14,
   "metadata": {
    "colab": {
     "base_uri": "https://localhost:8080/",
     "height": 733
    },
    "colab_type": "code",
    "id": "xTV7Tc4aRFTF",
    "outputId": "a5d355cc-fb81-4c99-d67c-bf445de7d9fc"
   },
   "outputs": [
    {
     "name": "stdout",
     "output_type": "stream",
     "text": [
      "Arvore max_depth = 1, treino = 75.79, teste = 75.78\n",
      "Arvore max_depth = 2, treino = 75.79, teste = 75.78\n",
      "Arvore max_depth = 3, treino = 78.75, teste = 78.67\n",
      "Arvore max_depth = 4, treino = 78.79, teste = 78.63\n",
      "Arvore max_depth = 5, treino = 78.94, teste = 78.56\n",
      "Arvore max_depth = 6, treino = 79.17, teste = 78.12\n",
      "Arvore max_depth = 7, treino = 79.50, teste = 77.96\n",
      "Arvore max_depth = 8, treino = 79.89, teste = 77.86\n",
      "Arvore max_depth = 9, treino = 80.46, teste = 77.38\n",
      "Arvore max_depth = 10, treino = 81.16, teste = 77.19\n",
      "Arvore max_depth = 11, treino = 82.03, teste = 76.97\n",
      "Arvore max_depth = 12, treino = 82.89, teste = 76.49\n",
      "Arvore max_depth = 13, treino = 83.95, teste = 75.81\n",
      "Arvore max_depth = 14, treino = 85.03, teste = 75.66\n",
      "Arvore max_depth = 15, treino = 86.14, teste = 75.16\n",
      "Arvore max_depth = 16, treino = 87.19, teste = 75.11\n",
      "Arvore max_depth = 17, treino = 88.31, teste = 74.74\n",
      "Arvore max_depth = 18, treino = 89.26, teste = 74.33\n",
      "Arvore max_depth = 19, treino = 90.32, teste = 74.34\n",
      "Arvore max_depth = 20, treino = 91.32, teste = 74.22\n",
      "Arvore max_depth = 21, treino = 92.14, teste = 73.80\n",
      "Arvore max_depth = 22, treino = 93.02, teste = 73.81\n",
      "Arvore max_depth = 23, treino = 93.80, teste = 73.38\n",
      "Arvore max_depth = 24, treino = 94.47, teste = 73.43\n",
      "Arvore max_depth = 25, treino = 95.16, teste = 73.14\n",
      "Arvore max_depth = 26, treino = 95.74, teste = 73.04\n",
      "Arvore max_depth = 27, treino = 96.33, teste = 72.91\n",
      "Arvore max_depth = 28, treino = 96.75, teste = 72.66\n",
      "Arvore max_depth = 29, treino = 97.10, teste = 72.73\n",
      "Arvore max_depth = 30, treino = 97.43, teste = 72.81\n",
      "Arvore max_depth = 31, treino = 97.80, teste = 72.86\n",
      "Arvore max_depth = 32, treino = 98.10, teste = 72.52\n"
     ]
    },
    {
     "data": {
      "text/html": [
       "<div>\n",
       "<style scoped>\n",
       "    .dataframe tbody tr th:only-of-type {\n",
       "        vertical-align: middle;\n",
       "    }\n",
       "\n",
       "    .dataframe tbody tr th {\n",
       "        vertical-align: top;\n",
       "    }\n",
       "\n",
       "    .dataframe thead th {\n",
       "        text-align: right;\n",
       "    }\n",
       "</style>\n",
       "<table border=\"1\" class=\"dataframe\">\n",
       "  <thead>\n",
       "    <tr style=\"text-align: right;\">\n",
       "      <th></th>\n",
       "      <th>max_depth</th>\n",
       "      <th>train</th>\n",
       "      <th>test</th>\n",
       "    </tr>\n",
       "  </thead>\n",
       "  <tbody>\n",
       "    <tr>\n",
       "      <th>0</th>\n",
       "      <td>1</td>\n",
       "      <td>75.791169</td>\n",
       "      <td>75.784219</td>\n",
       "    </tr>\n",
       "    <tr>\n",
       "      <th>1</th>\n",
       "      <td>2</td>\n",
       "      <td>75.791169</td>\n",
       "      <td>75.784219</td>\n",
       "    </tr>\n",
       "    <tr>\n",
       "      <th>2</th>\n",
       "      <td>3</td>\n",
       "      <td>78.750993</td>\n",
       "      <td>78.672633</td>\n",
       "    </tr>\n",
       "    <tr>\n",
       "      <th>3</th>\n",
       "      <td>4</td>\n",
       "      <td>78.787628</td>\n",
       "      <td>78.632803</td>\n",
       "    </tr>\n",
       "    <tr>\n",
       "      <th>4</th>\n",
       "      <td>5</td>\n",
       "      <td>78.941007</td>\n",
       "      <td>78.555912</td>\n",
       "    </tr>\n",
       "  </tbody>\n",
       "</table>\n",
       "</div>"
      ],
      "text/plain": [
       "   max_depth      train       test\n",
       "0          1  75.791169  75.784219\n",
       "1          2  75.791169  75.784219\n",
       "2          3  78.750993  78.672633\n",
       "3          4  78.787628  78.632803\n",
       "4          5  78.941007  78.555912"
      ]
     },
     "execution_count": 14,
     "metadata": {},
     "output_type": "execute_result"
    }
   ],
   "source": [
    "def roda_arvore_de_decisao(max_depth):\n",
    "  SEED = 301\n",
    "  np.random.seed(SEED)\n",
    "\n",
    "  cv = GroupKFold(n_splits = 10)\n",
    "  modelo = DecisionTreeClassifier(max_depth=max_depth)\n",
    "  results = cross_validate(modelo, x_azar, y_azar, cv = cv, groups = dados.modelo, return_train_score=True)\n",
    "  train_score = results['train_score'].mean() * 100\n",
    "  test_score = results['test_score'].mean() * 100\n",
    "  print(\"Arvore max_depth = %d, treino = %.2f, teste = %.2f\" % (max_depth, train_score, test_score))\n",
    "  tabela = [max_depth, train_score, test_score]\n",
    "  return tabela\n",
    "  \n",
    "resultados = [roda_arvore_de_decisao(i) for i in range(1,33)]\n",
    "resultados = pd.DataFrame(resultados, columns= [\"max_depth\",\"train\",\"test\"])\n",
    "resultados.head()"
   ]
  },
  {
   "cell_type": "code",
   "execution_count": 15,
   "metadata": {
    "colab": {
     "base_uri": "https://localhost:8080/",
     "height": 301
    },
    "colab_type": "code",
    "id": "6HBLCc7QTsLt",
    "outputId": "5c14e473-e4ac-4913-8e17-89a417896d2a"
   },
   "outputs": [
    {
     "data": {
      "text/plain": [
       "<AxesSubplot:xlabel='max_depth', ylabel='train'>"
      ]
     },
     "execution_count": 15,
     "metadata": {},
     "output_type": "execute_result"
    },
    {
     "data": {
      "image/png": "[encoded data removed]",
      "text/plain": [
       "<Figure size 432x288 with 1 Axes>"
      ]
     },
     "metadata": {
      "needs_background": "light"
     },
     "output_type": "display_data"
    }
   ],
   "source": [
    "import seaborn as sns\n",
    "\n",
    "sns.lineplot(x = \"max_depth\", y = \"train\", data = resultados)"
   ]
  },
  {
   "cell_type": "markdown",
   "metadata": {
    "colab_type": "text",
    "id": "j-o6VtTrXbhu"
   },
   "source": [
    "# OVERFIT: ficou \"perfeito\" para o treino mas ruim para o teste"
   ]
  },
  {
   "cell_type": "code",
   "execution_count": 16,
   "metadata": {
    "colab": {
     "base_uri": "https://localhost:8080/",
     "height": 301
    },
    "colab_type": "code",
    "id": "OhwJ_FAnWOlq",
    "outputId": "b136f667-4257-48eb-9bc5-b7f0fe53f4fb"
   },
   "outputs": [
    {
     "data": {
      "text/plain": [
       "<matplotlib.legend.Legend at 0x7f3f19d53400>"
      ]
     },
     "execution_count": 16,
     "metadata": {},
     "output_type": "execute_result"
    },
    {
     "data": {
      "image/png": "[encoded data removed]",
      "text/plain": [
       "<Figure size 432x288 with 1 Axes>"
      ]
     },
     "metadata": {
      "needs_background": "light"
     },
     "output_type": "display_data"
    }
   ],
   "source": [
    "import matplotlib.pyplot as plt\n",
    "\n",
    "sns.lineplot(x = \"max_depth\", y = \"train\", data = resultados)\n",
    "sns.lineplot(x = \"max_depth\", y = \"test\", data = resultados)\n",
    "plt.legend([\"Treino\", \"Teste\"])"
   ]
  },
  {
   "cell_type": "code",
   "execution_count": 17,
   "metadata": {
    "colab": {
     "base_uri": "https://localhost:8080/",
     "height": 204
    },
    "colab_type": "code",
    "id": "wXmQpoGaXXqP",
    "outputId": "40f9ea94-6de4-4dff-fff1-d8ebc7739f63"
   },
   "outputs": [
    {
     "data": {
      "text/html": [
       "<div>\n",
       "<style scoped>\n",
       "    .dataframe tbody tr th:only-of-type {\n",
       "        vertical-align: middle;\n",
       "    }\n",
       "\n",
       "    .dataframe tbody tr th {\n",
       "        vertical-align: top;\n",
       "    }\n",
       "\n",
       "    .dataframe thead th {\n",
       "        text-align: right;\n",
       "    }\n",
       "</style>\n",
       "<table border=\"1\" class=\"dataframe\">\n",
       "  <thead>\n",
       "    <tr style=\"text-align: right;\">\n",
       "      <th></th>\n",
       "      <th>max_depth</th>\n",
       "      <th>train</th>\n",
       "      <th>test</th>\n",
       "    </tr>\n",
       "  </thead>\n",
       "  <tbody>\n",
       "    <tr>\n",
       "      <th>2</th>\n",
       "      <td>3</td>\n",
       "      <td>78.750993</td>\n",
       "      <td>78.672633</td>\n",
       "    </tr>\n",
       "    <tr>\n",
       "      <th>3</th>\n",
       "      <td>4</td>\n",
       "      <td>78.787628</td>\n",
       "      <td>78.632803</td>\n",
       "    </tr>\n",
       "    <tr>\n",
       "      <th>4</th>\n",
       "      <td>5</td>\n",
       "      <td>78.941007</td>\n",
       "      <td>78.555912</td>\n",
       "    </tr>\n",
       "    <tr>\n",
       "      <th>5</th>\n",
       "      <td>6</td>\n",
       "      <td>79.170115</td>\n",
       "      <td>78.123266</td>\n",
       "    </tr>\n",
       "    <tr>\n",
       "      <th>6</th>\n",
       "      <td>7</td>\n",
       "      <td>79.496806</td>\n",
       "      <td>77.963185</td>\n",
       "    </tr>\n",
       "  </tbody>\n",
       "</table>\n",
       "</div>"
      ],
      "text/plain": [
       "   max_depth      train       test\n",
       "2          3  78.750993  78.672633\n",
       "3          4  78.787628  78.632803\n",
       "4          5  78.941007  78.555912\n",
       "5          6  79.170115  78.123266\n",
       "6          7  79.496806  77.963185"
      ]
     },
     "execution_count": 17,
     "metadata": {},
     "output_type": "execute_result"
    }
   ],
   "source": [
    "resultados.sort_values(\"test\", ascending=False).head()"
   ]
  },
  {
   "cell_type": "code",
   "execution_count": null,
   "metadata": {
    "colab": {},
    "colab_type": "code",
    "id": "Odrf-gsWXl9u"
   },
   "outputs": [],
   "source": []
  }
 ],
 "metadata": {
  "colab": {
   "collapsed_sections": [],
   "name": "Introdução_a_Machine_Learning_Otimização.ipynb",
   "provenance": [],
   "version": "0.3.2"
  },
  "kernelspec": {
   "display_name": "Python 3",
   "language": "python",
   "name": "python3"
  },
  "language_info": {
   "codemirror_mode": {
    "name": "ipython",
    "version": 3
   },
   "file_extension": ".py",
   "mimetype": "text/x-python",
   "name": "python",
   "nbconvert_exporter": "python",
   "pygments_lexer": "ipython3",
   "version": "3.9.4"
  }
 },
 "nbformat": 4,
 "nbformat_minor": 1
}
